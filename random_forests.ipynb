{
 "cells": [
  {
   "cell_type": "code",
   "execution_count": 1,
   "id": "d22e84de",
   "metadata": {},
   "outputs": [],
   "source": [
    "import pandas as pd\n",
    "import numpy as np\n",
    "import seaborn as sns\n",
    "import matplotlib.pyplot as plt\n",
    "import scipy.stats as stats\n",
    "import acquire as acq\n",
    "import prepare as prep"
   ]
  },
  {
   "cell_type": "code",
   "execution_count": 2,
   "id": "4bee7a4b",
   "metadata": {},
   "outputs": [],
   "source": [
    "from sklearn.tree import DecisionTreeClassifier, plot_tree\n",
    "from sklearn.metrics import classification_report\n",
    "from sklearn.metrics import confusion_matrix\n",
    "from sklearn.ensemble import RandomForestClassifier"
   ]
  },
  {
   "cell_type": "markdown",
   "id": "0cbfd71d",
   "metadata": {},
   "source": [
    "Create a new notebook, random_forests, and work with titanic data to do the following:"
   ]
  },
  {
   "cell_type": "markdown",
   "id": "2920367b",
   "metadata": {},
   "source": [
    "- Fit the Random Forest classifier to your training sample and transform (i.e. make predictions on the training sample) setting the random_state accordingly and setting min_samples_leaf = 1 and max_depth = 10."
   ]
  },
  {
   "cell_type": "code",
   "execution_count": 125,
   "id": "7f4dfcf5",
   "metadata": {},
   "outputs": [],
   "source": [
    "titanic = acq.get_titanic_data()\n",
    "titanic = prep.prep_titanic(titanic)\n",
    "train_titanic, validate_titanic, test_titanic = prep.split_data(titanic, 'survived')"
   ]
  },
  {
   "cell_type": "code",
   "execution_count": 126,
   "id": "839a7564",
   "metadata": {},
   "outputs": [
    {
     "data": {
      "text/html": [
       "<div>\n",
       "<style scoped>\n",
       "    .dataframe tbody tr th:only-of-type {\n",
       "        vertical-align: middle;\n",
       "    }\n",
       "\n",
       "    .dataframe tbody tr th {\n",
       "        vertical-align: top;\n",
       "    }\n",
       "\n",
       "    .dataframe thead th {\n",
       "        text-align: right;\n",
       "    }\n",
       "</style>\n",
       "<table border=\"1\" class=\"dataframe\">\n",
       "  <thead>\n",
       "    <tr style=\"text-align: right;\">\n",
       "      <th></th>\n",
       "      <th>survived</th>\n",
       "      <th>pclass</th>\n",
       "      <th>sex</th>\n",
       "      <th>sibsp</th>\n",
       "      <th>parch</th>\n",
       "      <th>fare</th>\n",
       "      <th>embarked</th>\n",
       "      <th>alone</th>\n",
       "      <th>sex_male</th>\n",
       "      <th>embarked_Q</th>\n",
       "      <th>embarked_S</th>\n",
       "    </tr>\n",
       "    <tr>\n",
       "      <th>passenger_id</th>\n",
       "      <th></th>\n",
       "      <th></th>\n",
       "      <th></th>\n",
       "      <th></th>\n",
       "      <th></th>\n",
       "      <th></th>\n",
       "      <th></th>\n",
       "      <th></th>\n",
       "      <th></th>\n",
       "      <th></th>\n",
       "      <th></th>\n",
       "    </tr>\n",
       "  </thead>\n",
       "  <tbody>\n",
       "    <tr>\n",
       "      <th>455</th>\n",
       "      <td>1</td>\n",
       "      <td>3</td>\n",
       "      <td>male</td>\n",
       "      <td>0</td>\n",
       "      <td>0</td>\n",
       "      <td>7.8958</td>\n",
       "      <td>C</td>\n",
       "      <td>1</td>\n",
       "      <td>1</td>\n",
       "      <td>0</td>\n",
       "      <td>0</td>\n",
       "    </tr>\n",
       "    <tr>\n",
       "      <th>380</th>\n",
       "      <td>1</td>\n",
       "      <td>1</td>\n",
       "      <td>female</td>\n",
       "      <td>0</td>\n",
       "      <td>0</td>\n",
       "      <td>227.5250</td>\n",
       "      <td>C</td>\n",
       "      <td>1</td>\n",
       "      <td>0</td>\n",
       "      <td>0</td>\n",
       "      <td>0</td>\n",
       "    </tr>\n",
       "    <tr>\n",
       "      <th>492</th>\n",
       "      <td>0</td>\n",
       "      <td>1</td>\n",
       "      <td>male</td>\n",
       "      <td>0</td>\n",
       "      <td>0</td>\n",
       "      <td>30.5000</td>\n",
       "      <td>S</td>\n",
       "      <td>1</td>\n",
       "      <td>1</td>\n",
       "      <td>0</td>\n",
       "      <td>1</td>\n",
       "    </tr>\n",
       "    <tr>\n",
       "      <th>55</th>\n",
       "      <td>1</td>\n",
       "      <td>1</td>\n",
       "      <td>male</td>\n",
       "      <td>0</td>\n",
       "      <td>0</td>\n",
       "      <td>35.5000</td>\n",
       "      <td>S</td>\n",
       "      <td>1</td>\n",
       "      <td>1</td>\n",
       "      <td>0</td>\n",
       "      <td>1</td>\n",
       "    </tr>\n",
       "    <tr>\n",
       "      <th>243</th>\n",
       "      <td>0</td>\n",
       "      <td>3</td>\n",
       "      <td>male</td>\n",
       "      <td>0</td>\n",
       "      <td>0</td>\n",
       "      <td>7.1250</td>\n",
       "      <td>S</td>\n",
       "      <td>1</td>\n",
       "      <td>1</td>\n",
       "      <td>0</td>\n",
       "      <td>1</td>\n",
       "    </tr>\n",
       "  </tbody>\n",
       "</table>\n",
       "</div>"
      ],
      "text/plain": [
       "              survived  pclass     sex  sibsp  parch      fare embarked  \\\n",
       "passenger_id                                                              \n",
       "455                  1       3    male      0      0    7.8958        C   \n",
       "380                  1       1  female      0      0  227.5250        C   \n",
       "492                  0       1    male      0      0   30.5000        S   \n",
       "55                   1       1    male      0      0   35.5000        S   \n",
       "243                  0       3    male      0      0    7.1250        S   \n",
       "\n",
       "              alone  sex_male  embarked_Q  embarked_S  \n",
       "passenger_id                                           \n",
       "455               1         1           0           0  \n",
       "380               1         0           0           0  \n",
       "492               1         1           0           1  \n",
       "55                1         1           0           1  \n",
       "243               1         1           0           1  "
      ]
     },
     "execution_count": 126,
     "metadata": {},
     "output_type": "execute_result"
    }
   ],
   "source": [
    "train_titanic.head()"
   ]
  },
  {
   "cell_type": "code",
   "execution_count": 127,
   "id": "bdf7b55e",
   "metadata": {},
   "outputs": [],
   "source": [
    "trees = RandomForestClassifier(random_state=123,\n",
    "                              min_samples_leaf=1,\n",
    "                              max_depth=10)"
   ]
  },
  {
   "cell_type": "markdown",
   "id": "ad49a84e",
   "metadata": {},
   "source": [
    "- Evaluate your results using the model score, confusion matrix, and classification report."
   ]
  },
  {
   "cell_type": "code",
   "execution_count": 128,
   "id": "2533b1c2",
   "metadata": {},
   "outputs": [],
   "source": [
    "X_train = train_titanic.select_dtypes(exclude='object').iloc[:,1:]\n",
    "y_train = train_titanic.survived"
   ]
  },
  {
   "cell_type": "code",
   "execution_count": 129,
   "id": "ed475ed8",
   "metadata": {},
   "outputs": [],
   "source": [
    "X_validate = validate_titanic.select_dtypes(exclude='object').iloc[:,1:]\n",
    "y_validate = validate_titanic.survived"
   ]
  },
  {
   "cell_type": "code",
   "execution_count": 130,
   "id": "05c352e7",
   "metadata": {},
   "outputs": [],
   "source": [
    "X_test = test_titanic.select_dtypes(exclude='object').iloc[:,1:]\n",
    "y_test = test_titanic.survived"
   ]
  },
  {
   "cell_type": "code",
   "execution_count": 131,
   "id": "0065592a",
   "metadata": {},
   "outputs": [
    {
     "data": {
      "text/plain": [
       "0.9438202247191011"
      ]
     },
     "execution_count": 131,
     "metadata": {},
     "output_type": "execute_result"
    }
   ],
   "source": [
    "trees.fit(X_train, y_train) # in-sample score of model\n",
    "trees.score(X_train, y_train)"
   ]
  },
  {
   "cell_type": "code",
   "execution_count": 140,
   "id": "aa26ca0b",
   "metadata": {
    "scrolled": false
   },
   "outputs": [
    {
     "data": {
      "text/html": [
       "<div>\n",
       "<style scoped>\n",
       "    .dataframe tbody tr th:only-of-type {\n",
       "        vertical-align: middle;\n",
       "    }\n",
       "\n",
       "    .dataframe tbody tr th {\n",
       "        vertical-align: top;\n",
       "    }\n",
       "\n",
       "    .dataframe thead th {\n",
       "        text-align: right;\n",
       "    }\n",
       "</style>\n",
       "<table border=\"1\" class=\"dataframe\">\n",
       "  <thead>\n",
       "    <tr style=\"text-align: right;\">\n",
       "      <th></th>\n",
       "      <th>not_survived_predict</th>\n",
       "      <th>survived_predict</th>\n",
       "    </tr>\n",
       "  </thead>\n",
       "  <tbody>\n",
       "    <tr>\n",
       "      <th>not_survived_actual</th>\n",
       "      <td>324</td>\n",
       "      <td>5</td>\n",
       "    </tr>\n",
       "    <tr>\n",
       "      <th>survived_actual</th>\n",
       "      <td>25</td>\n",
       "      <td>180</td>\n",
       "    </tr>\n",
       "  </tbody>\n",
       "</table>\n",
       "</div>"
      ],
      "text/plain": [
       "                     not_survived_predict  survived_predict\n",
       "not_survived_actual                   324                 5\n",
       "survived_actual                        25               180"
      ]
     },
     "execution_count": 140,
     "metadata": {},
     "output_type": "execute_result"
    }
   ],
   "source": [
    "y_pred = trees.predict(X_train)\n",
    "\n",
    "conf = confusion_matrix(y_train, y_pred)\n",
    "\n",
    "pd.DataFrame(confusion_matrix(y_train, y_pred),\n",
    "            index = ['not_survived_actual', 'survived_actual'],\n",
    "            columns = ['not_survived_predict', 'survived_predict']\n",
    "            ) # To show TP, TN, FP, FN"
   ]
  },
  {
   "cell_type": "code",
   "execution_count": 141,
   "id": "04b39164",
   "metadata": {},
   "outputs": [],
   "source": [
    "TN, FP, FN, TP = conf.ravel() # Storing these for future question"
   ]
  },
  {
   "cell_type": "code",
   "execution_count": 133,
   "id": "e6e57444",
   "metadata": {},
   "outputs": [
    {
     "name": "stdout",
     "output_type": "stream",
     "text": [
      "              precision    recall  f1-score   support\n",
      "\n",
      "           0       0.93      0.98      0.96       329\n",
      "           1       0.97      0.88      0.92       205\n",
      "\n",
      "    accuracy                           0.94       534\n",
      "   macro avg       0.95      0.93      0.94       534\n",
      "weighted avg       0.95      0.94      0.94       534\n",
      "\n"
     ]
    }
   ],
   "source": [
    "print(classification_report(y_train, y_pred))"
   ]
  },
  {
   "cell_type": "code",
   "execution_count": 142,
   "id": "15076f8e",
   "metadata": {
    "scrolled": false
   },
   "outputs": [
    {
     "data": {
      "text/plain": [
       "{'not_survived': {'precision': 0.9283667621776505,\n",
       "  'recall': 0.9848024316109423,\n",
       "  'f1-score': 0.9557522123893806,\n",
       "  'support': 329},\n",
       " 'survived': {'precision': 0.972972972972973,\n",
       "  'recall': 0.8780487804878049,\n",
       "  'f1-score': 0.923076923076923,\n",
       "  'support': 205},\n",
       " 'accuracy': 0.9438202247191011,\n",
       " 'macro avg': {'precision': 0.9506698675753118,\n",
       "  'recall': 0.9314256060493735,\n",
       "  'f1-score': 0.9394145677331518,\n",
       "  'support': 534},\n",
       " 'weighted avg': {'precision': 0.9454908693181769,\n",
       "  'recall': 0.9438202247191011,\n",
       "  'f1-score': 0.943208327915497,\n",
       "  'support': 534}}"
      ]
     },
     "execution_count": 142,
     "metadata": {},
     "output_type": "execute_result"
    }
   ],
   "source": [
    "cr = classification_report(y_train, y_pred, target_names = ['not_survived','survived'], output_dict=True)\n",
    "cr\n",
    "# To show accuracy, precision, recall, f1-score, support"
   ]
  },
  {
   "cell_type": "code",
   "execution_count": 143,
   "id": "a4b715d8",
   "metadata": {},
   "outputs": [
    {
     "data": {
      "text/plain": [
       "0.9438202247191011"
      ]
     },
     "execution_count": 143,
     "metadata": {},
     "output_type": "execute_result"
    }
   ],
   "source": [
    "\n"
   ]
  },
  {
   "cell_type": "markdown",
   "id": "bea91706",
   "metadata": {},
   "source": [
    "- Print and clearly label the following: Accuracy, true positive rate, false positive rate, true negative rate, false negative rate, precision, recall, f1-score, and support."
   ]
  },
  {
   "cell_type": "code",
   "execution_count": 147,
   "id": "037a55b2",
   "metadata": {},
   "outputs": [
    {
     "name": "stdout",
     "output_type": "stream",
     "text": [
      "Accuracy of model is 0.944\n",
      "TP rate of model is 0.337\n",
      "FP rate of model is 0.009\n",
      "TN rate of model is 0.607\n",
      "FN rate of model is 0.047\n",
      "Precision of model is 0.973\n",
      "Recall of model is 0.878\n",
      "F1-score of model is 0.923\n",
      "Support of model is [329, 205, 534]\n"
     ]
    }
   ],
   "source": [
    "all_ = (TN + TP + FN + FP)\n",
    "\n",
    "print(f'Accuracy of model is {round((cr[\"accuracy\"]),3)}')\n",
    "print(f'TP rate of model is {round((TP / all_),3)}')\n",
    "print(f'FP rate of model is {round((FP / all_),3)}')\n",
    "print(f'TN rate of model is {round((TN / all_),3)}')\n",
    "print(f'FN rate of model is {round((FN / all_),3)}')\n",
    "print(f'Precision of model is {round((cr[\"survived\"][\"precision\"]),3)}')\n",
    "print(f'Recall of model is {round((cr[\"survived\"][\"recall\"]),3)}')\n",
    "print(f'F1-score of model is {round((cr[\"survived\"][\"f1-score\"]),3)}')\n",
    "print(f'Support of model is {[TN + FP, TP + FN, all_]}')"
   ]
  },
  {
   "cell_type": "markdown",
   "id": "68571f52",
   "metadata": {},
   "source": [
    "- Run through steps increasing your min_samples_leaf and decreasing your max_depth."
   ]
  },
  {
   "cell_type": "code",
   "execution_count": 35,
   "id": "a16d1b31",
   "metadata": {},
   "outputs": [
    {
     "name": "stdout",
     "output_type": "stream",
     "text": [
      "For min_samples 1 and max_depth 10, accuracy is: 0.9438202247191011.\n",
      "For min_samples 2 and max_depth 9, accuracy is: 0.8913857677902621.\n",
      "For min_samples 3 and max_depth 8, accuracy is: 0.8707865168539326.\n",
      "For min_samples 4 and max_depth 7, accuracy is: 0.8576779026217228.\n",
      "For min_samples 5 and max_depth 6, accuracy is: 0.8445692883895131.\n",
      "For min_samples 6 and max_depth 5, accuracy is: 0.8370786516853933.\n",
      "For min_samples 7 and max_depth 4, accuracy is: 0.8239700374531835.\n",
      "For min_samples 8 and max_depth 3, accuracy is: 0.8277153558052435.\n",
      "For min_samples 9 and max_depth 2, accuracy is: 0.7940074906367042.\n",
      "For min_samples 10 and max_depth 1, accuracy is: 0.7546816479400749.\n"
     ]
    }
   ],
   "source": [
    "# Only running it on train dataset.\n",
    "\n",
    "for x in range(1,11):\n",
    "    trees = RandomForestClassifier(random_state=123,\n",
    "                              min_samples_leaf=x,\n",
    "                              max_depth=(11-x))\n",
    "    X_train = train_titanic.select_dtypes(exclude='object').iloc[:,1:]\n",
    "    y_train = train_titanic.survived\n",
    "    trees.fit(X_train, y_train)\n",
    "    print(f'For min_samples {x} and max_depth {(11-x)}, accuracy is: {trees.score(X_train, y_train)}.')"
   ]
  },
  {
   "cell_type": "code",
   "execution_count": 97,
   "id": "0404d7fe",
   "metadata": {},
   "outputs": [
    {
     "data": {
      "text/html": [
       "<div>\n",
       "<style scoped>\n",
       "    .dataframe tbody tr th:only-of-type {\n",
       "        vertical-align: middle;\n",
       "    }\n",
       "\n",
       "    .dataframe tbody tr th {\n",
       "        vertical-align: top;\n",
       "    }\n",
       "\n",
       "    .dataframe thead th {\n",
       "        text-align: right;\n",
       "    }\n",
       "</style>\n",
       "<table border=\"1\" class=\"dataframe\">\n",
       "  <thead>\n",
       "    <tr style=\"text-align: right;\">\n",
       "      <th></th>\n",
       "      <th>min_samples</th>\n",
       "      <th>max_depth</th>\n",
       "      <th>train_score</th>\n",
       "      <th>validate_score</th>\n",
       "      <th>score_diff</th>\n",
       "    </tr>\n",
       "  </thead>\n",
       "  <tbody>\n",
       "    <tr>\n",
       "      <th>0</th>\n",
       "      <td>1</td>\n",
       "      <td>10</td>\n",
       "      <td>0.944</td>\n",
       "      <td>0.758</td>\n",
       "      <td>0.185</td>\n",
       "    </tr>\n",
       "    <tr>\n",
       "      <th>1</th>\n",
       "      <td>2</td>\n",
       "      <td>9</td>\n",
       "      <td>0.891</td>\n",
       "      <td>0.787</td>\n",
       "      <td>0.105</td>\n",
       "    </tr>\n",
       "    <tr>\n",
       "      <th>2</th>\n",
       "      <td>3</td>\n",
       "      <td>8</td>\n",
       "      <td>0.871</td>\n",
       "      <td>0.787</td>\n",
       "      <td>0.084</td>\n",
       "    </tr>\n",
       "    <tr>\n",
       "      <th>3</th>\n",
       "      <td>4</td>\n",
       "      <td>7</td>\n",
       "      <td>0.858</td>\n",
       "      <td>0.792</td>\n",
       "      <td>0.066</td>\n",
       "    </tr>\n",
       "    <tr>\n",
       "      <th>4</th>\n",
       "      <td>5</td>\n",
       "      <td>6</td>\n",
       "      <td>0.845</td>\n",
       "      <td>0.792</td>\n",
       "      <td>0.052</td>\n",
       "    </tr>\n",
       "    <tr>\n",
       "      <th>5</th>\n",
       "      <td>6</td>\n",
       "      <td>5</td>\n",
       "      <td>0.837</td>\n",
       "      <td>0.809</td>\n",
       "      <td>0.028</td>\n",
       "    </tr>\n",
       "    <tr>\n",
       "      <th>6</th>\n",
       "      <td>7</td>\n",
       "      <td>4</td>\n",
       "      <td>0.824</td>\n",
       "      <td>0.798</td>\n",
       "      <td>0.026</td>\n",
       "    </tr>\n",
       "    <tr>\n",
       "      <th>7</th>\n",
       "      <td>8</td>\n",
       "      <td>3</td>\n",
       "      <td>0.828</td>\n",
       "      <td>0.787</td>\n",
       "      <td>0.041</td>\n",
       "    </tr>\n",
       "    <tr>\n",
       "      <th>8</th>\n",
       "      <td>9</td>\n",
       "      <td>2</td>\n",
       "      <td>0.794</td>\n",
       "      <td>0.787</td>\n",
       "      <td>0.007</td>\n",
       "    </tr>\n",
       "    <tr>\n",
       "      <th>9</th>\n",
       "      <td>10</td>\n",
       "      <td>1</td>\n",
       "      <td>0.755</td>\n",
       "      <td>0.764</td>\n",
       "      <td>-0.009</td>\n",
       "    </tr>\n",
       "  </tbody>\n",
       "</table>\n",
       "</div>"
      ],
      "text/plain": [
       "   min_samples  max_depth  train_score  validate_score  score_diff\n",
       "0            1         10        0.944           0.758       0.185\n",
       "1            2          9        0.891           0.787       0.105\n",
       "2            3          8        0.871           0.787       0.084\n",
       "3            4          7        0.858           0.792       0.066\n",
       "4            5          6        0.845           0.792       0.052\n",
       "5            6          5        0.837           0.809       0.028\n",
       "6            7          4        0.824           0.798       0.026\n",
       "7            8          3        0.828           0.787       0.041\n",
       "8            9          2        0.794           0.787       0.007\n",
       "9           10          1        0.755           0.764      -0.009"
      ]
     },
     "execution_count": 97,
     "metadata": {},
     "output_type": "execute_result"
    }
   ],
   "source": [
    "# Combining values of train dataset along with validate, and getting accuracy scores for each and finding the diff.\n",
    "\n",
    "scores = pd.DataFrame({})\n",
    "\n",
    "for x in range(1,11):\n",
    "    trees = RandomForestClassifier(random_state=123,\n",
    "                              min_samples_leaf=x,\n",
    "                              max_depth=(11-x))\n",
    "    X_train = train_titanic.select_dtypes(exclude='object').iloc[:,1:]\n",
    "    y_train = train_titanic.survived\n",
    "    trees.fit(X_train, y_train)\n",
    "    train_score = trees.score(X_train, y_train)\n",
    "    X_validate = validate_titanic.select_dtypes(exclude='object').iloc[:,1:]\n",
    "    y_validate = validate_titanic.survived\n",
    "    validate_score = trees.score(X_validate, y_validate)\n",
    "    min_sample = x\n",
    "    max_depth = (11-x)\n",
    "    score = pd.DataFrame({'min_samples': [min_sample],\n",
    "             'max_depth': [max_depth],\n",
    "             'train_score': [round(train_score, 3)],\n",
    "             'validate_score': [round(validate_score, 3)],\n",
    "             'score_diff': [(round((train_score - validate_score), 3))]})\n",
    "    scores = pd.concat([scores, score])\n",
    "\n",
    "scores = scores.reset_index(drop=True)\n",
    "scores\n",
    "    "
   ]
  },
  {
   "cell_type": "code",
   "execution_count": 94,
   "id": "a1a80ba3",
   "metadata": {
    "scrolled": true
   },
   "outputs": [
    {
     "data": {
      "image/png": "[encoded data removed]",
      "text/plain": [
       "<Figure size 640x480 with 1 Axes>"
      ]
     },
     "metadata": {},
     "output_type": "display_data"
    }
   ],
   "source": [
    "# Do a plot to visually see area where difference between two is minimal while accuracy remains high.\n",
    "\n",
    "plt.plot(scores.min_samples, scores.train_score, label=\"Train\", marker='o')\n",
    "plt.plot(scores.min_samples, scores.validate_score, label='Validate', marker = 'o')\n",
    "plt.title('Performance of Random Forest Models on Titanic Dataset')\n",
    "plt.legend()\n",
    "plt.ylabel('Accuracy')\n",
    "plt.xlabel('# of Leaves')\n",
    "plt.annotate('Difference of Scores', xy=(4, 0.825), xytext=(6, 0.85), \n",
    "             arrowprops=dict(facecolor='black', width = .5, headwidth = 5, headlength = 5))\n",
    "plt.fill_between(x=scores.min_samples, y1=scores.validate_score, y2=scores.train_score, alpha=0.25)\n",
    "plt.show()"
   ]
  },
  {
   "cell_type": "markdown",
   "id": "f645da80",
   "metadata": {},
   "source": [
    "- What are the differences in the evaluation metrics? Which performs better on your in-sample data? Why?"
   ]
  },
  {
   "cell_type": "markdown",
   "id": "bbba7a37",
   "metadata": {},
   "source": [
    "The one that performed the best on the in-sample data was # of leaves = 1 with max_depth = 10, probably because it was able to ask so many questions per decision tree, which leads to overfit of data. However, looking at the overall combination of leaves vs. depth, the best model to choose from would have hyperparameters of leaves = 6 or 7 and depth = 5 or 4, respectively."
   ]
  },
  {
   "cell_type": "markdown",
   "id": "f1b9701b",
   "metadata": {},
   "source": [
    "After making a few models, which one has the best performance (or closest metrics) on both train and validate?"
   ]
  },
  {
   "cell_type": "markdown",
   "id": "d426cc40",
   "metadata": {},
   "source": [
    "See above response for answer."
   ]
  }
 ],
 "metadata": {
  "kernelspec": {
   "display_name": "Python 3 (ipykernel)",
   "language": "python",
   "name": "python3"
  },
  "language_info": {
   "codemirror_mode": {
    "name": "ipython",
    "version": 3
   },
   "file_extension": ".py",
   "mimetype": "text/x-python",
   "name": "python",
   "nbconvert_exporter": "python",
   "pygments_lexer": "ipython3",
   "version": "3.9.13"
  }
 },
 "nbformat": 4,
 "nbformat_minor": 5
}
