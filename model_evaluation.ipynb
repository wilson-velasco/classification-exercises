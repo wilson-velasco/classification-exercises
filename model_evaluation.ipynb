{
 "cells": [
  {
   "cell_type": "code",
   "execution_count": 3,
   "id": "b8607612",
   "metadata": {},
   "outputs": [],
   "source": [
    "import pandas as pd\n",
    "import numpy as np\n",
    "import matplotlib.pyplot as plt\n",
    "import seaborn as sns\n",
    "import scipy.stats as stats"
   ]
  },
  {
   "cell_type": "markdown",
   "id": "b3e44848",
   "metadata": {},
   "source": [
    "2. Given the following confusion matrix, evaluate (by hand) the model's performance."
   ]
  },
  {
   "cell_type": "markdown",
   "id": "d02a2086",
   "metadata": {},
   "source": [
    "|               | pred dog   | pred cat   |\n",
    "|:------------  |-----------:|-----------:|\n",
    "| actual dog    |         46 |         7  |\n",
    "| actual cat    |         13 |         34 |\n"
   ]
  },
  {
   "cell_type": "code",
   "execution_count": null,
   "id": "706e5390",
   "metadata": {},
   "outputs": [],
   "source": [
    "# We'll look at accuracy, precision, and recall\n",
    "\n",
    "# Accuracy (TP+TN)/(TP+TN+FP+FN)\n",
    "\n",
    "(46+34) / (46+7+13+34) = .80\n",
    "\n",
    "# Precision TP / (TP+FP)\n",
    "\n",
    "46 / (46+13) = .78\n",
    "\n",
    "# Recall TP / (TP+FN)\n",
    "\n",
    "46 / (46+7) = .87"
   ]
  },
  {
   "cell_type": "code",
   "execution_count": null,
   "id": "db8e3cf5",
   "metadata": {},
   "outputs": [],
   "source": [
    "# - In the context of this problem, what is a false positive?\n",
    "\n",
    "# We will arbitrarily assign dog as a positive value, and cat as a negative.\n",
    "\n",
    "# In this case, a false positive is when we predicted a dog, but got a cat.\n",
    "\n",
    "# - In the context of this problem, what is a false negative?\n",
    "\n",
    "# When we predicated a cat, but got a dog.\n",
    "\n",
    "# - How would you describe this model?\n",
    "\n",
    "# TP - We predicted a dog and it was a dog.\n",
    "# TN - We predicted a cat and it was a cat.\n",
    "# FP - We predicted a dog but it was a cat.\n",
    "# FN - We predicted a cat but it was a dog.\n",
    "# Accuracy - .80\n",
    "# Precision - .78\n",
    "# Recall - .87"
   ]
  },
  {
   "cell_type": "markdown",
   "id": "26f72267",
   "metadata": {},
   "source": [
    "3.You are working as a datascientist working for Codeup Cody Creator (C3 for short), a rubber-duck manufacturing plant.\n",
    "\n",
    "Unfortunately, some of the rubber ducks that are produced will have defects. Your team has built several models that try to predict those defects, and the data from their predictions can be found here.\n",
    "\n",
    "Use the predictions dataset and pandas to help answer the following questions:"
   ]
  },
  {
   "cell_type": "code",
   "execution_count": 4,
   "id": "1e35d305",
   "metadata": {},
   "outputs": [
    {
     "data": {
      "text/html": [
       "<div>\n",
       "<style scoped>\n",
       "    .dataframe tbody tr th:only-of-type {\n",
       "        vertical-align: middle;\n",
       "    }\n",
       "\n",
       "    .dataframe tbody tr th {\n",
       "        vertical-align: top;\n",
       "    }\n",
       "\n",
       "    .dataframe thead th {\n",
       "        text-align: right;\n",
       "    }\n",
       "</style>\n",
       "<table border=\"1\" class=\"dataframe\">\n",
       "  <thead>\n",
       "    <tr style=\"text-align: right;\">\n",
       "      <th></th>\n",
       "      <th>actual</th>\n",
       "      <th>model1</th>\n",
       "      <th>model2</th>\n",
       "      <th>model3</th>\n",
       "    </tr>\n",
       "  </thead>\n",
       "  <tbody>\n",
       "    <tr>\n",
       "      <th>0</th>\n",
       "      <td>No Defect</td>\n",
       "      <td>No Defect</td>\n",
       "      <td>Defect</td>\n",
       "      <td>No Defect</td>\n",
       "    </tr>\n",
       "    <tr>\n",
       "      <th>1</th>\n",
       "      <td>No Defect</td>\n",
       "      <td>No Defect</td>\n",
       "      <td>Defect</td>\n",
       "      <td>Defect</td>\n",
       "    </tr>\n",
       "    <tr>\n",
       "      <th>2</th>\n",
       "      <td>No Defect</td>\n",
       "      <td>No Defect</td>\n",
       "      <td>Defect</td>\n",
       "      <td>No Defect</td>\n",
       "    </tr>\n",
       "    <tr>\n",
       "      <th>3</th>\n",
       "      <td>No Defect</td>\n",
       "      <td>Defect</td>\n",
       "      <td>Defect</td>\n",
       "      <td>Defect</td>\n",
       "    </tr>\n",
       "    <tr>\n",
       "      <th>4</th>\n",
       "      <td>No Defect</td>\n",
       "      <td>No Defect</td>\n",
       "      <td>Defect</td>\n",
       "      <td>No Defect</td>\n",
       "    </tr>\n",
       "  </tbody>\n",
       "</table>\n",
       "</div>"
      ],
      "text/plain": [
       "      actual     model1  model2     model3\n",
       "0  No Defect  No Defect  Defect  No Defect\n",
       "1  No Defect  No Defect  Defect     Defect\n",
       "2  No Defect  No Defect  Defect  No Defect\n",
       "3  No Defect     Defect  Defect     Defect\n",
       "4  No Defect  No Defect  Defect  No Defect"
      ]
     },
     "execution_count": 4,
     "metadata": {},
     "output_type": "execute_result"
    }
   ],
   "source": [
    "predictions = pd.read_csv('c3.csv')\n",
    "\n",
    "predictions.head()"
   ]
  },
  {
   "cell_type": "markdown",
   "id": "11a6c38a",
   "metadata": {},
   "source": [
    " - An internal team wants to investigate the cause of the manufacturing defects. They tell you that they want to identify as many of the ducks that have a defect as possible. Which evaluation metric would be appropriate here? Which model would be the best fit for this use case?"
   ]
  },
  {
   "cell_type": "code",
   "execution_count": 11,
   "id": "333ab6d2",
   "metadata": {},
   "outputs": [
    {
     "name": "stdout",
     "output_type": "stream",
     "text": [
      "Model 1 Recall: 0.5\n",
      "Model 2 Recall: 0.5625\n",
      "Model 3 Recall: 0.8125\n"
     ]
    }
   ],
   "source": [
    "# Because we want to identify as many *actual* positives as possible (and \"Defect\" is the positive value), we will\n",
    "# use Recall.\n",
    "\n",
    "# model1 Recall Value\n",
    "\n",
    "print(f'Model 1 Recall: {(predictions.model1 == \"Defect\")[predictions.actual==\"Defect\"].mean()}')\n",
    "\n",
    "# model2 Recall Value\n",
    "\n",
    "print(f'Model 2 Recall: {(predictions.model2 == \"Defect\")[predictions.actual==\"Defect\"].mean()}')\n",
    "\n",
    "# model3 Recall Value\n",
    "\n",
    "print(f'Model 3 Recall: {(predictions.model3 == \"Defect\")[predictions.actual==\"Defect\"].mean()}')"
   ]
  },
  {
   "cell_type": "markdown",
   "id": "55be2813",
   "metadata": {},
   "source": [
    "Model 3 has the best recall value."
   ]
  },
  {
   "cell_type": "markdown",
   "id": "5fb71d5e",
   "metadata": {},
   "source": [
    "- Recently several stories in the local news have come out highlighting customers who received a rubber duck with a defect, and portraying C3 in a bad light. The PR team has decided to launch a program that gives customers with a defective duck a vacation to Hawaii. They need you to predict which ducks will have defects, but tell you the really don't want to accidentally give out a vacation package when the duck really doesn't have a defect. Which evaluation metric would be appropriate here? Which model would be the best fit for this use case?"
   ]
  },
  {
   "cell_type": "code",
   "execution_count": 15,
   "id": "8d732fbc",
   "metadata": {},
   "outputs": [
    {
     "name": "stdout",
     "output_type": "stream",
     "text": [
      "Model 1 Precision: 0.8\n",
      "Model 2 Precision: 0.1\n",
      "Model 3 Precision: 0.13131313131313133\n"
     ]
    }
   ],
   "source": [
    "# Since the False Positive (a predicted defect that was an actual non-defect) is the most costly and has to be taken\n",
    "# into consideration, Precision is the appropriate metric here.\n",
    "\n",
    "# model1 Precision Value\n",
    "\n",
    "print(f'Model 1 Precision: {(predictions.actual == \"Defect\")[predictions.model1 == \"Defect\"].mean()}')\n",
    "\n",
    "# model2 Precision Value\n",
    "\n",
    "print(f'Model 2 Precision: {(predictions.actual == \"Defect\")[predictions.model2 == \"Defect\"].mean()}')\n",
    "\n",
    "# model3 Precision Value\n",
    "\n",
    "print(f'Model 3 Precision: {(predictions.actual == \"Defect\")[predictions.model3 == \"Defect\"].mean()}')"
   ]
  },
  {
   "cell_type": "markdown",
   "id": "d9cf5a95",
   "metadata": {},
   "source": [
    "Model 1 has the best precision."
   ]
  },
  {
   "cell_type": "markdown",
   "id": "a3ff26cf",
   "metadata": {},
   "source": [
    "4.You are working as a data scientist for Gives You Paws ™, a subscription based service that shows you cute pictures of dogs or cats (or both for an additional fee).\n",
    "\n",
    "At Gives You Paws, anyone can upload pictures of their cats or dogs. The photos are then put through a two step process. First an automated algorithm tags pictures as either a cat or a dog (Phase I). Next, the photos that have been initially identified are put through another round of review, possibly with some human oversight, before being presented to the users (Phase II).\n",
    "\n",
    "Several models have already been developed with the data, and you can find their results here.\n",
    "\n",
    "Given this dataset, use pandas to create a baseline model (i.e. a model that just predicts the most common class) and answer the following questions:"
   ]
  },
  {
   "cell_type": "code",
   "execution_count": 23,
   "id": "f7633665",
   "metadata": {},
   "outputs": [
    {
     "data": {
      "text/html": [
       "<div>\n",
       "<style scoped>\n",
       "    .dataframe tbody tr th:only-of-type {\n",
       "        vertical-align: middle;\n",
       "    }\n",
       "\n",
       "    .dataframe tbody tr th {\n",
       "        vertical-align: top;\n",
       "    }\n",
       "\n",
       "    .dataframe thead th {\n",
       "        text-align: right;\n",
       "    }\n",
       "</style>\n",
       "<table border=\"1\" class=\"dataframe\">\n",
       "  <thead>\n",
       "    <tr style=\"text-align: right;\">\n",
       "      <th></th>\n",
       "      <th>actual</th>\n",
       "      <th>model1</th>\n",
       "      <th>model2</th>\n",
       "      <th>model3</th>\n",
       "      <th>model4</th>\n",
       "    </tr>\n",
       "  </thead>\n",
       "  <tbody>\n",
       "    <tr>\n",
       "      <th>0</th>\n",
       "      <td>cat</td>\n",
       "      <td>cat</td>\n",
       "      <td>dog</td>\n",
       "      <td>cat</td>\n",
       "      <td>dog</td>\n",
       "    </tr>\n",
       "    <tr>\n",
       "      <th>1</th>\n",
       "      <td>dog</td>\n",
       "      <td>dog</td>\n",
       "      <td>cat</td>\n",
       "      <td>cat</td>\n",
       "      <td>dog</td>\n",
       "    </tr>\n",
       "    <tr>\n",
       "      <th>2</th>\n",
       "      <td>dog</td>\n",
       "      <td>cat</td>\n",
       "      <td>cat</td>\n",
       "      <td>cat</td>\n",
       "      <td>dog</td>\n",
       "    </tr>\n",
       "    <tr>\n",
       "      <th>3</th>\n",
       "      <td>dog</td>\n",
       "      <td>dog</td>\n",
       "      <td>dog</td>\n",
       "      <td>cat</td>\n",
       "      <td>dog</td>\n",
       "    </tr>\n",
       "    <tr>\n",
       "      <th>4</th>\n",
       "      <td>cat</td>\n",
       "      <td>cat</td>\n",
       "      <td>cat</td>\n",
       "      <td>dog</td>\n",
       "      <td>dog</td>\n",
       "    </tr>\n",
       "  </tbody>\n",
       "</table>\n",
       "</div>"
      ],
      "text/plain": [
       "  actual model1 model2 model3 model4\n",
       "0    cat    cat    dog    cat    dog\n",
       "1    dog    dog    cat    cat    dog\n",
       "2    dog    cat    cat    cat    dog\n",
       "3    dog    dog    dog    cat    dog\n",
       "4    cat    cat    cat    dog    dog"
      ]
     },
     "execution_count": 23,
     "metadata": {},
     "output_type": "execute_result"
    }
   ],
   "source": [
    "paws = pd.read_csv('gives_you_paws.csv')\n",
    "\n",
    "paws.head()"
   ]
  },
  {
   "cell_type": "markdown",
   "id": "1ea40d06",
   "metadata": {},
   "source": [
    "- In terms of accuracy, how do the various models compare to the baseline model? Are any of the models better than the baseline?"
   ]
  },
  {
   "cell_type": "code",
   "execution_count": 26,
   "id": "a961dd16",
   "metadata": {},
   "outputs": [],
   "source": [
    "paws.actual.value_counts() # check what's the mode/most frequent value\n",
    "\n",
    "paws['baseline'] = 'dog' # set baseline to dog"
   ]
  },
  {
   "cell_type": "code",
   "execution_count": 27,
   "id": "fb4e5d02",
   "metadata": {},
   "outputs": [
    {
     "data": {
      "text/html": [
       "<div>\n",
       "<style scoped>\n",
       "    .dataframe tbody tr th:only-of-type {\n",
       "        vertical-align: middle;\n",
       "    }\n",
       "\n",
       "    .dataframe tbody tr th {\n",
       "        vertical-align: top;\n",
       "    }\n",
       "\n",
       "    .dataframe thead th {\n",
       "        text-align: right;\n",
       "    }\n",
       "</style>\n",
       "<table border=\"1\" class=\"dataframe\">\n",
       "  <thead>\n",
       "    <tr style=\"text-align: right;\">\n",
       "      <th></th>\n",
       "      <th>actual</th>\n",
       "      <th>model1</th>\n",
       "      <th>model2</th>\n",
       "      <th>model3</th>\n",
       "      <th>model4</th>\n",
       "      <th>baseline</th>\n",
       "    </tr>\n",
       "  </thead>\n",
       "  <tbody>\n",
       "    <tr>\n",
       "      <th>0</th>\n",
       "      <td>cat</td>\n",
       "      <td>cat</td>\n",
       "      <td>dog</td>\n",
       "      <td>cat</td>\n",
       "      <td>dog</td>\n",
       "      <td>dog</td>\n",
       "    </tr>\n",
       "    <tr>\n",
       "      <th>1</th>\n",
       "      <td>dog</td>\n",
       "      <td>dog</td>\n",
       "      <td>cat</td>\n",
       "      <td>cat</td>\n",
       "      <td>dog</td>\n",
       "      <td>dog</td>\n",
       "    </tr>\n",
       "    <tr>\n",
       "      <th>2</th>\n",
       "      <td>dog</td>\n",
       "      <td>cat</td>\n",
       "      <td>cat</td>\n",
       "      <td>cat</td>\n",
       "      <td>dog</td>\n",
       "      <td>dog</td>\n",
       "    </tr>\n",
       "    <tr>\n",
       "      <th>3</th>\n",
       "      <td>dog</td>\n",
       "      <td>dog</td>\n",
       "      <td>dog</td>\n",
       "      <td>cat</td>\n",
       "      <td>dog</td>\n",
       "      <td>dog</td>\n",
       "    </tr>\n",
       "    <tr>\n",
       "      <th>4</th>\n",
       "      <td>cat</td>\n",
       "      <td>cat</td>\n",
       "      <td>cat</td>\n",
       "      <td>dog</td>\n",
       "      <td>dog</td>\n",
       "      <td>dog</td>\n",
       "    </tr>\n",
       "  </tbody>\n",
       "</table>\n",
       "</div>"
      ],
      "text/plain": [
       "  actual model1 model2 model3 model4 baseline\n",
       "0    cat    cat    dog    cat    dog      dog\n",
       "1    dog    dog    cat    cat    dog      dog\n",
       "2    dog    cat    cat    cat    dog      dog\n",
       "3    dog    dog    dog    cat    dog      dog\n",
       "4    cat    cat    cat    dog    dog      dog"
      ]
     },
     "execution_count": 27,
     "metadata": {},
     "output_type": "execute_result"
    }
   ],
   "source": [
    "paws.head()"
   ]
  },
  {
   "cell_type": "code",
   "execution_count": 31,
   "id": "a6a0203b",
   "metadata": {},
   "outputs": [
    {
     "name": "stdout",
     "output_type": "stream",
     "text": [
      "Model 1 Accuracy: 0.8074\n",
      "Model 2 Accuracy: 0.6304\n",
      "Model 3 Accuracy: 0.5096\n",
      "Model 4 Accuracy: 0.7426\n",
      "Baseline Accuracy: 0.6508\n"
     ]
    }
   ],
   "source": [
    "# model1 Accuracy Value\n",
    "\n",
    "print(f'Model 1 Accuracy: {(paws.model1 == paws.actual).mean()}')\n",
    "\n",
    "# model2 Accuracy Value\n",
    "\n",
    "print(f'Model 2 Accuracy: {(paws.model2 == paws.actual).mean()}')\n",
    "\n",
    "# model3 Accuracy Value\n",
    "\n",
    "print(f'Model 3 Accuracy: {(paws.model3 == paws.actual).mean()}')\n",
    "\n",
    "# model4 Accuracy Value\n",
    "\n",
    "print(f'Model 4 Accuracy: {(paws.model4 == paws.actual).mean()}')\n",
    "\n",
    "# baseline Accuracy Value\n",
    "\n",
    "print(f'Baseline Accuracy: {(paws.baseline == paws.actual).mean()}')"
   ]
  },
  {
   "cell_type": "markdown",
   "id": "1fa885f7",
   "metadata": {},
   "source": [
    "Model 1 has the best accuracy."
   ]
  },
  {
   "cell_type": "markdown",
   "id": "beb31df3",
   "metadata": {},
   "source": [
    "- Suppose you are working on a team that solely deals with dog pictures. Which of these models would you recommend?"
   ]
  },
  {
   "cell_type": "code",
   "execution_count": 35,
   "id": "996a2b64",
   "metadata": {},
   "outputs": [
    {
     "name": "stdout",
     "output_type": "stream",
     "text": [
      "Model 1 Recall: 0.803318992009834\n",
      "Model 2 Recall: 0.49078057775046097\n",
      "Model 3 Recall: 0.5086047940995697\n",
      "Model 4 Recall: 0.9557467732022127\n",
      "Baseline Recall: 1.0\n"
     ]
    }
   ],
   "source": [
    "# We would want Recall because we want to see how often we correctly predicted a dog picture.\n",
    "\n",
    "# model1 Recall Value\n",
    "\n",
    "print(f'Model 1 Recall: {(paws.model1 == \"dog\")[paws.actual == \"dog\"].mean()}')\n",
    "\n",
    "# model2 Recall Value\n",
    "\n",
    "print(f'Model 2 Recall: {(paws.model2 == \"dog\")[paws.actual == \"dog\"].mean()}')\n",
    "\n",
    "# model3 Recall Value\n",
    "\n",
    "print(f'Model 3 Recall: {(paws.model3 == \"dog\")[paws.actual == \"dog\"].mean()}')\n",
    "\n",
    "# model4 Recall Value\n",
    "\n",
    "print(f'Model 4 Recall: {(paws.model4 == \"dog\")[paws.actual == \"dog\"].mean()}')\n",
    "\n",
    "# baseline Recall Value\n",
    "\n",
    "print(f'Baseline Recall: {(paws.baseline == \"dog\")[].mean()}')"
   ]
  },
  {
   "cell_type": "markdown",
   "id": "679767a3",
   "metadata": {},
   "source": [
    "Just using the baseline would be the best predictor of dog photos."
   ]
  },
  {
   "cell_type": "markdown",
   "id": "cbf223e5",
   "metadata": {},
   "source": [
    "- Suppose you are working on a team that solely deals with cat pictures. Which of these models would you recommend?"
   ]
  },
  {
   "cell_type": "code",
   "execution_count": 36,
   "id": "df40a991",
   "metadata": {},
   "outputs": [
    {
     "name": "stdout",
     "output_type": "stream",
     "text": [
      "Model 1 Recall: 0.8150057273768614\n",
      "Model 2 Recall: 0.8906071019473081\n",
      "Model 3 Recall: 0.5114547537227949\n",
      "Model 4 Recall: 0.34536082474226804\n",
      "Baseline Recall: 0.0\n"
     ]
    }
   ],
   "source": [
    "# In this case, we would flip the values and consider 'cat' as being the positive value.\n",
    "\n",
    "# model1 Recall Value\n",
    "\n",
    "print(f'Model 1 Recall: {(paws.model1 == \"cat\")[paws.actual == \"cat\"].mean()}')\n",
    "\n",
    "# model2 Recall Value\n",
    "\n",
    "print(f'Model 2 Recall: {(paws.model2 == \"cat\")[paws.actual == \"cat\"].mean()}')\n",
    "\n",
    "# model3 Recall Value\n",
    "\n",
    "print(f'Model 3 Recall: {(paws.model3 == \"cat\")[paws.actual == \"cat\"].mean()}')\n",
    "\n",
    "# model4 Recall Value\n",
    "\n",
    "print(f'Model 4 Recall: {(paws.model4 == \"cat\")[paws.actual == \"cat\"].mean()}')\n",
    "\n",
    "# baseline Recall Value\n",
    "\n",
    "print(f'Baseline Recall: {(paws.baseline == \"cat\")[paws.actual == \"cat\"].mean()}')"
   ]
  },
  {
   "cell_type": "markdown",
   "id": "8ff99470",
   "metadata": {},
   "source": [
    "Model 2 is the best model to predict cat photos."
   ]
  },
  {
   "cell_type": "markdown",
   "id": "16a5c2cb",
   "metadata": {},
   "source": [
    "Follow the links below to read the documentation about each function, then apply those functions to the data from the previous problem.\n",
    "\n",
    "- sklearn.metrics.accuracy_score\n",
    "- sklearn.metrics.precision_score\n",
    "- sklearn.metrics.recall_score\n",
    "- sklearn.metrics.classification_report"
   ]
  },
  {
   "cell_type": "code",
   "execution_count": 39,
   "id": "e1464583",
   "metadata": {},
   "outputs": [],
   "source": [
    "import sklearn.metrics as m"
   ]
  },
  {
   "cell_type": "code",
   "execution_count": 52,
   "id": "adeb3e45",
   "metadata": {},
   "outputs": [
    {
     "name": "stdout",
     "output_type": "stream",
     "text": [
      "Actual Accuracy: 1.0\n",
      "Model1 Accuracy: 0.8074\n",
      "Model2 Accuracy: 0.6304\n",
      "Model3 Accuracy: 0.5096\n",
      "Model4 Accuracy: 0.7426\n",
      "Baseline Accuracy: 0.6508\n"
     ]
    }
   ],
   "source": [
    "for col in paws: # For accuracy where 'dog' is positive\n",
    "    print(f'{col.capitalize()} Accuracy: {m.accuracy_score(paws.actual, paws[col])}')"
   ]
  },
  {
   "cell_type": "code",
   "execution_count": 83,
   "id": "8ef7d14d",
   "metadata": {},
   "outputs": [
    {
     "name": "stdout",
     "output_type": "stream",
     "text": [
      "Actual Recall: 1.0\n",
      "Model1 Recall: 0.803318992009834\n",
      "Model2 Recall: 0.49078057775046097\n",
      "Model3 Recall: 0.5086047940995697\n",
      "Model4 Recall: 0.9557467732022127\n",
      "Baseline Recall: 1.0\n"
     ]
    }
   ],
   "source": [
    "for col in paws: # For dog recall score\n",
    "    print(f'{col.capitalize()} Recall: {m.recall_score((paws.actual == \"dog\"), (paws[col] == \"dog\"))}')"
   ]
  },
  {
   "cell_type": "code",
   "execution_count": 82,
   "id": "b6e60068",
   "metadata": {},
   "outputs": [
    {
     "name": "stdout",
     "output_type": "stream",
     "text": [
      "Actual Recall: 1.0\n",
      "Model1 Recall: 0.8150057273768614\n",
      "Model2 Recall: 0.8906071019473081\n",
      "Model3 Recall: 0.5114547537227949\n",
      "Model4 Recall: 0.34536082474226804\n",
      "Baseline Recall: 0.0\n"
     ]
    }
   ],
   "source": [
    "for col in paws: # For cat recall score\n",
    "    print(f'{col.capitalize()} Recall: {m.recall_score((paws.actual == \"cat\"), (paws[col] == \"cat\"))}')"
   ]
  }
 ],
 "metadata": {
  "kernelspec": {
   "display_name": "Python 3 (ipykernel)",
   "language": "python",
   "name": "python3"
  },
  "language_info": {
   "codemirror_mode": {
    "name": "ipython",
    "version": 3
   },
   "file_extension": ".py",
   "mimetype": "text/x-python",
   "name": "python",
   "nbconvert_exporter": "python",
   "pygments_lexer": "ipython3",
   "version": "3.9.13"
  }
 },
 "nbformat": 4,
 "nbformat_minor": 5
}
