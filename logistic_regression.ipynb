{
 "cells": [
  {
   "cell_type": "code",
   "execution_count": 3,
   "id": "1907aa55",
   "metadata": {},
   "outputs": [],
   "source": [
    "import pandas as pd\n",
    "import numpy as np\n",
    "import matplotlib.pyplot as plt\n",
    "import seaborn as sns\n",
    "\n",
    "import acquire as acq\n",
    "import prepare as prep\n",
    "\n",
    "from sklearn.metrics import classification_report\n",
    "from sklearn.linear_model import LogisticRegression"
   ]
  },
  {
   "cell_type": "markdown",
   "id": "17cf9449",
   "metadata": {},
   "source": [
    "In these exercises, we'll continue working with the titanic dataset and building logistic regression models. Throughout this exercise, be sure you are training, evaluation, and comparing models on the train and validate datasets. The test dataset should only be used for your final model.\n",
    "\n",
    "Create a new notebook, logistic_regression, use it to answer the following questions:"
   ]
  },
  {
   "cell_type": "markdown",
   "id": "92e0ecf8",
   "metadata": {},
   "source": [
    "- Create a model that includes only age, fare, and pclass. Does this model perform better than your baseline?"
   ]
  },
  {
   "cell_type": "code",
   "execution_count": 4,
   "id": "4096a925",
   "metadata": {},
   "outputs": [
    {
     "data": {
      "text/html": [
       "<div>\n",
       "<style scoped>\n",
       "    .dataframe tbody tr th:only-of-type {\n",
       "        vertical-align: middle;\n",
       "    }\n",
       "\n",
       "    .dataframe tbody tr th {\n",
       "        vertical-align: top;\n",
       "    }\n",
       "\n",
       "    .dataframe thead th {\n",
       "        text-align: right;\n",
       "    }\n",
       "</style>\n",
       "<table border=\"1\" class=\"dataframe\">\n",
       "  <thead>\n",
       "    <tr style=\"text-align: right;\">\n",
       "      <th></th>\n",
       "      <th>passenger_id</th>\n",
       "      <th>survived</th>\n",
       "      <th>pclass</th>\n",
       "      <th>sex</th>\n",
       "      <th>age</th>\n",
       "      <th>sibsp</th>\n",
       "      <th>parch</th>\n",
       "      <th>fare</th>\n",
       "      <th>embarked</th>\n",
       "      <th>class</th>\n",
       "      <th>deck</th>\n",
       "      <th>embark_town</th>\n",
       "      <th>alone</th>\n",
       "    </tr>\n",
       "  </thead>\n",
       "  <tbody>\n",
       "    <tr>\n",
       "      <th>0</th>\n",
       "      <td>0</td>\n",
       "      <td>0</td>\n",
       "      <td>3</td>\n",
       "      <td>male</td>\n",
       "      <td>22.0</td>\n",
       "      <td>1</td>\n",
       "      <td>0</td>\n",
       "      <td>7.2500</td>\n",
       "      <td>S</td>\n",
       "      <td>Third</td>\n",
       "      <td>NaN</td>\n",
       "      <td>Southampton</td>\n",
       "      <td>0</td>\n",
       "    </tr>\n",
       "    <tr>\n",
       "      <th>1</th>\n",
       "      <td>1</td>\n",
       "      <td>1</td>\n",
       "      <td>1</td>\n",
       "      <td>female</td>\n",
       "      <td>38.0</td>\n",
       "      <td>1</td>\n",
       "      <td>0</td>\n",
       "      <td>71.2833</td>\n",
       "      <td>C</td>\n",
       "      <td>First</td>\n",
       "      <td>C</td>\n",
       "      <td>Cherbourg</td>\n",
       "      <td>0</td>\n",
       "    </tr>\n",
       "    <tr>\n",
       "      <th>2</th>\n",
       "      <td>2</td>\n",
       "      <td>1</td>\n",
       "      <td>3</td>\n",
       "      <td>female</td>\n",
       "      <td>26.0</td>\n",
       "      <td>0</td>\n",
       "      <td>0</td>\n",
       "      <td>7.9250</td>\n",
       "      <td>S</td>\n",
       "      <td>Third</td>\n",
       "      <td>NaN</td>\n",
       "      <td>Southampton</td>\n",
       "      <td>1</td>\n",
       "    </tr>\n",
       "    <tr>\n",
       "      <th>3</th>\n",
       "      <td>3</td>\n",
       "      <td>1</td>\n",
       "      <td>1</td>\n",
       "      <td>female</td>\n",
       "      <td>35.0</td>\n",
       "      <td>1</td>\n",
       "      <td>0</td>\n",
       "      <td>53.1000</td>\n",
       "      <td>S</td>\n",
       "      <td>First</td>\n",
       "      <td>C</td>\n",
       "      <td>Southampton</td>\n",
       "      <td>0</td>\n",
       "    </tr>\n",
       "    <tr>\n",
       "      <th>4</th>\n",
       "      <td>4</td>\n",
       "      <td>0</td>\n",
       "      <td>3</td>\n",
       "      <td>male</td>\n",
       "      <td>35.0</td>\n",
       "      <td>0</td>\n",
       "      <td>0</td>\n",
       "      <td>8.0500</td>\n",
       "      <td>S</td>\n",
       "      <td>Third</td>\n",
       "      <td>NaN</td>\n",
       "      <td>Southampton</td>\n",
       "      <td>1</td>\n",
       "    </tr>\n",
       "  </tbody>\n",
       "</table>\n",
       "</div>"
      ],
      "text/plain": [
       "   passenger_id  survived  pclass     sex   age  sibsp  parch     fare  \\\n",
       "0             0         0       3    male  22.0      1      0   7.2500   \n",
       "1             1         1       1  female  38.0      1      0  71.2833   \n",
       "2             2         1       3  female  26.0      0      0   7.9250   \n",
       "3             3         1       1  female  35.0      1      0  53.1000   \n",
       "4             4         0       3    male  35.0      0      0   8.0500   \n",
       "\n",
       "  embarked  class deck  embark_town  alone  \n",
       "0        S  Third  NaN  Southampton      0  \n",
       "1        C  First    C    Cherbourg      0  \n",
       "2        S  Third  NaN  Southampton      1  \n",
       "3        S  First    C  Southampton      0  \n",
       "4        S  Third  NaN  Southampton      1  "
      ]
     },
     "execution_count": 4,
     "metadata": {},
     "output_type": "execute_result"
    }
   ],
   "source": [
    "titanic = acq.get_titanic_data()\n",
    "\n",
    "titanic.head()"
   ]
  },
  {
   "cell_type": "code",
   "execution_count": 17,
   "id": "1cf8ca71",
   "metadata": {},
   "outputs": [],
   "source": [
    "# Creating new dataframe where we drop NaN values from 'age'\n",
    "\n",
    "titanic = titanic.dropna(subset=['age'])"
   ]
  },
  {
   "cell_type": "code",
   "execution_count": 18,
   "id": "8c7b0c0b",
   "metadata": {},
   "outputs": [
    {
     "name": "stdout",
     "output_type": "stream",
     "text": [
      "<class 'pandas.core.frame.DataFrame'>\n",
      "Int64Index: 714 entries, 0 to 890\n",
      "Data columns (total 13 columns):\n",
      " #   Column        Non-Null Count  Dtype  \n",
      "---  ------        --------------  -----  \n",
      " 0   passenger_id  714 non-null    int64  \n",
      " 1   survived      714 non-null    int64  \n",
      " 2   pclass        714 non-null    int64  \n",
      " 3   sex           714 non-null    object \n",
      " 4   age           714 non-null    float64\n",
      " 5   sibsp         714 non-null    int64  \n",
      " 6   parch         714 non-null    int64  \n",
      " 7   fare          714 non-null    float64\n",
      " 8   embarked      712 non-null    object \n",
      " 9   class         714 non-null    object \n",
      " 10  deck          184 non-null    object \n",
      " 11  embark_town   712 non-null    object \n",
      " 12  alone         714 non-null    int64  \n",
      "dtypes: float64(2), int64(6), object(5)\n",
      "memory usage: 78.1+ KB\n"
     ]
    }
   ],
   "source": [
    "# Check\n",
    "\n",
    "titanic.info()"
   ]
  },
  {
   "cell_type": "code",
   "execution_count": 20,
   "id": "889b147e",
   "metadata": {},
   "outputs": [],
   "source": [
    "# Not going to run the dataset through prep_titanic, since that would drop age, and I can just set the X_train\n",
    "# to the values I want myself. Also, don't really want to encode pclass either.\n",
    "\n",
    "train_titanic, validate_titanic, test_titanic = prep.split_data(titanic, 'survived')"
   ]
  },
  {
   "cell_type": "code",
   "execution_count": 23,
   "id": "4133080b",
   "metadata": {},
   "outputs": [],
   "source": [
    "X_train = train_titanic[['age', 'fare', 'pclass']]\n",
    "y_train = train_titanic.survived\n",
    "\n",
    "X_validate = validate_titanic[['age', 'fare', 'pclass']]\n",
    "y_validate = validate_titanic.survived\n",
    "\n",
    "X_test = test_titanic[['age', 'fare', 'pclass']]\n",
    "y_test = test_titanic.survived"
   ]
  },
  {
   "cell_type": "code",
   "execution_count": 145,
   "id": "9c1dd4da",
   "metadata": {},
   "outputs": [
    {
     "data": {
      "text/plain": [
       "0.5934579439252337"
      ]
     },
     "execution_count": 145,
     "metadata": {},
     "output_type": "execute_result"
    }
   ],
   "source": [
    "# Baseline Prediction\n",
    "\n",
    "train_titanic.survived.mode() # 0\n",
    "(train_titanic.survived == 0).mean() #59.35%"
   ]
  },
  {
   "cell_type": "code",
   "execution_count": 24,
   "id": "24b2ba4b",
   "metadata": {},
   "outputs": [
    {
     "data": {
      "text/plain": [
       "LogisticRegression()"
      ]
     },
     "execution_count": 24,
     "metadata": {},
     "output_type": "execute_result"
    }
   ],
   "source": [
    "# Creating and fitting.\n",
    "\n",
    "logit0 = LogisticRegression()\n",
    "logit0.fit(X_train, y_train)"
   ]
  },
  {
   "cell_type": "code",
   "execution_count": 34,
   "id": "e5726859",
   "metadata": {},
   "outputs": [
    {
     "data": {
      "text/plain": [
       "array([0, 0, 1, 0, 0, 1, 0, 0, 0, 0])"
      ]
     },
     "execution_count": 34,
     "metadata": {},
     "output_type": "execute_result"
    }
   ],
   "source": [
    "# Predicting\n",
    "\n",
    "y_pred = logit0.predict(X_train)\n",
    "y_pred[:10]"
   ]
  },
  {
   "cell_type": "code",
   "execution_count": 31,
   "id": "e29d0e14",
   "metadata": {},
   "outputs": [
    {
     "data": {
      "text/plain": [
       "0.6985981308411215"
      ]
     },
     "execution_count": 31,
     "metadata": {},
     "output_type": "execute_result"
    }
   ],
   "source": [
    "titanic_pred = pd.DataFrame({'predicted': y_pred,\n",
    "             'actual': y_train})\n",
    "(titanic_pred.predicted == titanic_pred.actual).mean()"
   ]
  },
  {
   "cell_type": "code",
   "execution_count": 32,
   "id": "eb46deb6",
   "metadata": {},
   "outputs": [
    {
     "data": {
      "text/plain": [
       "0.6985981308411215"
      ]
     },
     "execution_count": 32,
     "metadata": {},
     "output_type": "execute_result"
    }
   ],
   "source": [
    "# Evaluating\n",
    "\n",
    "logit0.score(X_train, y_train)\n",
    "\n",
    "# The model performs, I would say, marginally better than the baseline."
   ]
  },
  {
   "cell_type": "code",
   "execution_count": 36,
   "id": "a57c342e",
   "metadata": {},
   "outputs": [
    {
     "data": {
      "text/html": [
       "<div>\n",
       "<style scoped>\n",
       "    .dataframe tbody tr th:only-of-type {\n",
       "        vertical-align: middle;\n",
       "    }\n",
       "\n",
       "    .dataframe tbody tr th {\n",
       "        vertical-align: top;\n",
       "    }\n",
       "\n",
       "    .dataframe thead th {\n",
       "        text-align: right;\n",
       "    }\n",
       "</style>\n",
       "<table border=\"1\" class=\"dataframe\">\n",
       "  <thead>\n",
       "    <tr style=\"text-align: right;\">\n",
       "      <th></th>\n",
       "      <th>Pred_Not</th>\n",
       "      <th>Pred_Sur</th>\n",
       "    </tr>\n",
       "  </thead>\n",
       "  <tbody>\n",
       "    <tr>\n",
       "      <th>Actual_Not</th>\n",
       "      <td>208</td>\n",
       "      <td>46</td>\n",
       "    </tr>\n",
       "    <tr>\n",
       "      <th>Actual_Sur</th>\n",
       "      <td>83</td>\n",
       "      <td>91</td>\n",
       "    </tr>\n",
       "  </tbody>\n",
       "</table>\n",
       "</div>"
      ],
      "text/plain": [
       "            Pred_Not  Pred_Sur\n",
       "Actual_Not       208        46\n",
       "Actual_Sur        83        91"
      ]
     },
     "execution_count": 36,
     "metadata": {},
     "output_type": "execute_result"
    }
   ],
   "source": [
    "from sklearn.metrics import confusion_matrix\n",
    "\n",
    "cm = confusion_matrix(y_train, y_pred)\n",
    "pd.DataFrame(cm, index=['Actual_Not', 'Actual_Sur'],\n",
    "            columns = ['Pred_Not', 'Pred_Sur'])"
   ]
  },
  {
   "cell_type": "code",
   "execution_count": 38,
   "id": "d22de9c4",
   "metadata": {},
   "outputs": [
    {
     "name": "stdout",
     "output_type": "stream",
     "text": [
      "              precision    recall  f1-score   support\n",
      "\n",
      "           0       0.71      0.82      0.76       254\n",
      "           1       0.66      0.52      0.59       174\n",
      "\n",
      "    accuracy                           0.70       428\n",
      "   macro avg       0.69      0.67      0.67       428\n",
      "weighted avg       0.69      0.70      0.69       428\n",
      "\n"
     ]
    }
   ],
   "source": [
    "print(classification_report(y_train, y_pred))"
   ]
  },
  {
   "cell_type": "markdown",
   "id": "95689252",
   "metadata": {},
   "source": [
    "- Include sex in your model as well. Note that you'll need to encode or create a dummy variable of this feature before including it in a model."
   ]
  },
  {
   "cell_type": "code",
   "execution_count": 44,
   "id": "db3d5bb0",
   "metadata": {},
   "outputs": [],
   "source": [
    "# Getting dummies\n",
    "\n",
    "train_titanic['male'] = pd.get_dummies(train_titanic['sex'],drop_first=True)\n",
    "validate_titanic['male'] = pd.get_dummies(validate_titanic['sex'],drop_first=True)\n",
    "test_titanic['male'] = pd.get_dummies(test_titanic['sex'],drop_first=True)"
   ]
  },
  {
   "cell_type": "code",
   "execution_count": 46,
   "id": "c8971209",
   "metadata": {},
   "outputs": [],
   "source": [
    "# Reassigning X_train and others\n",
    "\n",
    "X_train = train_titanic[['age', 'fare', 'pclass', 'male']]\n",
    "y_train = train_titanic.survived\n",
    "\n",
    "X_validate = validate_titanic[['age', 'fare', 'pclass', 'male']]\n",
    "y_validate = validate_titanic.survived\n",
    "\n",
    "X_test = test_titanic[['age', 'fare', 'pclass', 'male']]\n",
    "y_test = test_titanic.survived"
   ]
  },
  {
   "cell_type": "code",
   "execution_count": 47,
   "id": "34686777",
   "metadata": {},
   "outputs": [
    {
     "data": {
      "text/plain": [
       "LogisticRegression()"
      ]
     },
     "execution_count": 47,
     "metadata": {},
     "output_type": "execute_result"
    }
   ],
   "source": [
    "# Creating and fitting\n",
    "logit1 = LogisticRegression()\n",
    "logit1.fit(X_train, y_train)"
   ]
  },
  {
   "cell_type": "code",
   "execution_count": 50,
   "id": "ffe93107",
   "metadata": {},
   "outputs": [
    {
     "data": {
      "text/html": [
       "<div>\n",
       "<style scoped>\n",
       "    .dataframe tbody tr th:only-of-type {\n",
       "        vertical-align: middle;\n",
       "    }\n",
       "\n",
       "    .dataframe tbody tr th {\n",
       "        vertical-align: top;\n",
       "    }\n",
       "\n",
       "    .dataframe thead th {\n",
       "        text-align: right;\n",
       "    }\n",
       "</style>\n",
       "<table border=\"1\" class=\"dataframe\">\n",
       "  <thead>\n",
       "    <tr style=\"text-align: right;\">\n",
       "      <th></th>\n",
       "      <th>predicted</th>\n",
       "      <th>actual</th>\n",
       "    </tr>\n",
       "  </thead>\n",
       "  <tbody>\n",
       "    <tr>\n",
       "      <th>548</th>\n",
       "      <td>0</td>\n",
       "      <td>0</td>\n",
       "    </tr>\n",
       "    <tr>\n",
       "      <th>133</th>\n",
       "      <td>1</td>\n",
       "      <td>1</td>\n",
       "    </tr>\n",
       "    <tr>\n",
       "      <th>540</th>\n",
       "      <td>1</td>\n",
       "      <td>1</td>\n",
       "    </tr>\n",
       "    <tr>\n",
       "      <th>2</th>\n",
       "      <td>1</td>\n",
       "      <td>1</td>\n",
       "    </tr>\n",
       "    <tr>\n",
       "      <th>649</th>\n",
       "      <td>1</td>\n",
       "      <td>1</td>\n",
       "    </tr>\n",
       "    <tr>\n",
       "      <th>...</th>\n",
       "      <td>...</td>\n",
       "      <td>...</td>\n",
       "    </tr>\n",
       "    <tr>\n",
       "      <th>774</th>\n",
       "      <td>1</td>\n",
       "      <td>1</td>\n",
       "    </tr>\n",
       "    <tr>\n",
       "      <th>664</th>\n",
       "      <td>0</td>\n",
       "      <td>1</td>\n",
       "    </tr>\n",
       "    <tr>\n",
       "      <th>842</th>\n",
       "      <td>1</td>\n",
       "      <td>1</td>\n",
       "    </tr>\n",
       "    <tr>\n",
       "      <th>286</th>\n",
       "      <td>0</td>\n",
       "      <td>1</td>\n",
       "    </tr>\n",
       "    <tr>\n",
       "      <th>834</th>\n",
       "      <td>0</td>\n",
       "      <td>0</td>\n",
       "    </tr>\n",
       "  </tbody>\n",
       "</table>\n",
       "<p>428 rows × 2 columns</p>\n",
       "</div>"
      ],
      "text/plain": [
       "     predicted  actual\n",
       "548          0       0\n",
       "133          1       1\n",
       "540          1       1\n",
       "2            1       1\n",
       "649          1       1\n",
       "..         ...     ...\n",
       "774          1       1\n",
       "664          0       1\n",
       "842          1       1\n",
       "286          0       1\n",
       "834          0       0\n",
       "\n",
       "[428 rows x 2 columns]"
      ]
     },
     "execution_count": 50,
     "metadata": {},
     "output_type": "execute_result"
    }
   ],
   "source": [
    "# Predicting\n",
    "\n",
    "pd.DataFrame({'predicted': logit1.predict(X_train)\n",
    "             , 'actual': y_train})"
   ]
  },
  {
   "cell_type": "code",
   "execution_count": 51,
   "id": "5f0a3dbe",
   "metadata": {},
   "outputs": [
    {
     "data": {
      "text/plain": [
       "0.7873831775700935"
      ]
     },
     "execution_count": 51,
     "metadata": {},
     "output_type": "execute_result"
    }
   ],
   "source": [
    "# Scoring\n",
    "\n",
    "logit1.score(X_train, y_train)\n",
    "\n",
    "# Score much higher than without encoded sex."
   ]
  },
  {
   "cell_type": "code",
   "execution_count": 53,
   "id": "b78b741a",
   "metadata": {},
   "outputs": [],
   "source": [
    "y_pred1 = logit1.predict(X_train)"
   ]
  },
  {
   "cell_type": "code",
   "execution_count": 54,
   "id": "b26d6b4b",
   "metadata": {},
   "outputs": [
    {
     "data": {
      "text/html": [
       "<div>\n",
       "<style scoped>\n",
       "    .dataframe tbody tr th:only-of-type {\n",
       "        vertical-align: middle;\n",
       "    }\n",
       "\n",
       "    .dataframe tbody tr th {\n",
       "        vertical-align: top;\n",
       "    }\n",
       "\n",
       "    .dataframe thead th {\n",
       "        text-align: right;\n",
       "    }\n",
       "</style>\n",
       "<table border=\"1\" class=\"dataframe\">\n",
       "  <thead>\n",
       "    <tr style=\"text-align: right;\">\n",
       "      <th></th>\n",
       "      <th>Pred_Not</th>\n",
       "      <th>Pred_Sur</th>\n",
       "    </tr>\n",
       "  </thead>\n",
       "  <tbody>\n",
       "    <tr>\n",
       "      <th>Actual_Not</th>\n",
       "      <td>215</td>\n",
       "      <td>39</td>\n",
       "    </tr>\n",
       "    <tr>\n",
       "      <th>Actual_Sur</th>\n",
       "      <td>52</td>\n",
       "      <td>122</td>\n",
       "    </tr>\n",
       "  </tbody>\n",
       "</table>\n",
       "</div>"
      ],
      "text/plain": [
       "            Pred_Not  Pred_Sur\n",
       "Actual_Not       215        39\n",
       "Actual_Sur        52       122"
      ]
     },
     "execution_count": 54,
     "metadata": {},
     "output_type": "execute_result"
    }
   ],
   "source": [
    "cm = confusion_matrix(y_train, y_pred1)\n",
    "pd.DataFrame(cm, index=['Actual_Not', 'Actual_Sur'],\n",
    "            columns = ['Pred_Not', 'Pred_Sur'])"
   ]
  },
  {
   "cell_type": "code",
   "execution_count": 55,
   "id": "ebf887c3",
   "metadata": {},
   "outputs": [
    {
     "name": "stdout",
     "output_type": "stream",
     "text": [
      "              precision    recall  f1-score   support\n",
      "\n",
      "           0       0.81      0.85      0.83       254\n",
      "           1       0.76      0.70      0.73       174\n",
      "\n",
      "    accuracy                           0.79       428\n",
      "   macro avg       0.78      0.77      0.78       428\n",
      "weighted avg       0.79      0.79      0.79       428\n",
      "\n"
     ]
    }
   ],
   "source": [
    "print(classification_report(y_train, y_pred1))"
   ]
  },
  {
   "cell_type": "code",
   "execution_count": 56,
   "id": "95bdccdb",
   "metadata": {},
   "outputs": [
    {
     "data": {
      "text/plain": [
       "0.7692307692307693"
      ]
     },
     "execution_count": 56,
     "metadata": {},
     "output_type": "execute_result"
    }
   ],
   "source": [
    "logit1.score(X_validate, y_validate) # Good score compared to training dataset"
   ]
  },
  {
   "cell_type": "markdown",
   "id": "c1c906ff",
   "metadata": {},
   "source": [
    "- Try out other combinations of features and models."
   ]
  },
  {
   "cell_type": "code",
   "execution_count": 71,
   "id": "49fcdfe4",
   "metadata": {},
   "outputs": [],
   "source": [
    "# This time including 'alone'\n",
    "\n",
    "X_train = train_titanic[['age', 'fare', 'pclass', 'alone', 'male']]\n",
    "y_train = train_titanic.survived\n",
    "\n",
    "X_validate = validate_titanic[['age', 'fare', 'pclass', 'alone', 'male']]\n",
    "y_validate = validate_titanic.survived\n",
    "\n",
    "X_test = test_titanic[['age', 'fare', 'pclass', 'alone', 'male']]\n",
    "y_test = test_titanic.survived"
   ]
  },
  {
   "cell_type": "code",
   "execution_count": 62,
   "id": "dc1b3ca8",
   "metadata": {},
   "outputs": [
    {
     "data": {
      "text/plain": [
       "0.7920560747663551"
      ]
     },
     "execution_count": 62,
     "metadata": {},
     "output_type": "execute_result"
    }
   ],
   "source": [
    "logit2 = LogisticRegression()\n",
    "logit2.fit(X_train, y_train)\n",
    "logit2.score(X_train, y_train)"
   ]
  },
  {
   "cell_type": "code",
   "execution_count": 63,
   "id": "21060ba3",
   "metadata": {},
   "outputs": [
    {
     "data": {
      "text/plain": [
       "0.7902097902097902"
      ]
     },
     "execution_count": 63,
     "metadata": {},
     "output_type": "execute_result"
    }
   ],
   "source": [
    "logit2.score(X_validate, y_validate)"
   ]
  },
  {
   "cell_type": "code",
   "execution_count": 64,
   "id": "ffb636df",
   "metadata": {},
   "outputs": [],
   "source": [
    "# This time removing 'pclass'\n",
    "\n",
    "X_train = train_titanic[['age', 'fare', 'alone', 'male']]\n",
    "y_train = train_titanic.survived\n",
    "\n",
    "X_validate = validate_titanic[['age', 'fare', 'alone', 'male']]\n",
    "y_validate = validate_titanic.survived\n",
    "\n",
    "X_test = test_titanic[['age', 'fare', 'alone', 'male']]\n",
    "y_test = test_titanic.survived"
   ]
  },
  {
   "cell_type": "code",
   "execution_count": 65,
   "id": "a6e4cd17",
   "metadata": {},
   "outputs": [
    {
     "data": {
      "text/plain": [
       "0.7733644859813084"
      ]
     },
     "execution_count": 65,
     "metadata": {},
     "output_type": "execute_result"
    }
   ],
   "source": [
    "logit3 = LogisticRegression()\n",
    "logit3.fit(X_train, y_train)\n",
    "logit3.score(X_train, y_train)"
   ]
  },
  {
   "cell_type": "code",
   "execution_count": 66,
   "id": "332e69dc",
   "metadata": {},
   "outputs": [
    {
     "data": {
      "text/plain": [
       "0.7622377622377622"
      ]
     },
     "execution_count": 66,
     "metadata": {},
     "output_type": "execute_result"
    }
   ],
   "source": [
    "logit3.score(X_validate, y_validate)"
   ]
  },
  {
   "cell_type": "markdown",
   "id": "7cd4e5cb",
   "metadata": {},
   "source": [
    "- Use you best 3 models to predict and evaluate on your validate sample."
   ]
  },
  {
   "cell_type": "code",
   "execution_count": null,
   "id": "e480e2a2",
   "metadata": {},
   "outputs": [],
   "source": [
    "# Already did."
   ]
  },
  {
   "cell_type": "markdown",
   "id": "11a77e50",
   "metadata": {},
   "source": [
    "- Choose you best model from the validation performation, and evaluate it on the test dataset. How do the performance metrics compare to validate? to train?"
   ]
  },
  {
   "cell_type": "code",
   "execution_count": 72,
   "id": "b6432ab2",
   "metadata": {},
   "outputs": [
    {
     "data": {
      "text/plain": [
       "0.8251748251748252"
      ]
     },
     "execution_count": 72,
     "metadata": {},
     "output_type": "execute_result"
    }
   ],
   "source": [
    "logit2.score(X_test, y_test)\n",
    "\n",
    "# Performed even better than the validation and training datasets!"
   ]
  },
  {
   "cell_type": "code",
   "execution_count": 73,
   "id": "2eedaa89",
   "metadata": {},
   "outputs": [
    {
     "data": {
      "text/html": [
       "<div>\n",
       "<style scoped>\n",
       "    .dataframe tbody tr th:only-of-type {\n",
       "        vertical-align: middle;\n",
       "    }\n",
       "\n",
       "    .dataframe tbody tr th {\n",
       "        vertical-align: top;\n",
       "    }\n",
       "\n",
       "    .dataframe thead th {\n",
       "        text-align: right;\n",
       "    }\n",
       "</style>\n",
       "<table border=\"1\" class=\"dataframe\">\n",
       "  <thead>\n",
       "    <tr style=\"text-align: right;\">\n",
       "      <th></th>\n",
       "      <th>age</th>\n",
       "      <th>fare</th>\n",
       "      <th>pclass</th>\n",
       "      <th>alone</th>\n",
       "      <th>male</th>\n",
       "    </tr>\n",
       "  </thead>\n",
       "  <tbody>\n",
       "    <tr>\n",
       "      <th>548</th>\n",
       "      <td>33.0</td>\n",
       "      <td>20.525</td>\n",
       "      <td>3</td>\n",
       "      <td>0</td>\n",
       "      <td>1</td>\n",
       "    </tr>\n",
       "    <tr>\n",
       "      <th>133</th>\n",
       "      <td>29.0</td>\n",
       "      <td>26.000</td>\n",
       "      <td>2</td>\n",
       "      <td>0</td>\n",
       "      <td>0</td>\n",
       "    </tr>\n",
       "    <tr>\n",
       "      <th>540</th>\n",
       "      <td>36.0</td>\n",
       "      <td>71.000</td>\n",
       "      <td>1</td>\n",
       "      <td>0</td>\n",
       "      <td>0</td>\n",
       "    </tr>\n",
       "    <tr>\n",
       "      <th>2</th>\n",
       "      <td>26.0</td>\n",
       "      <td>7.925</td>\n",
       "      <td>3</td>\n",
       "      <td>1</td>\n",
       "      <td>0</td>\n",
       "    </tr>\n",
       "    <tr>\n",
       "      <th>649</th>\n",
       "      <td>23.0</td>\n",
       "      <td>7.550</td>\n",
       "      <td>3</td>\n",
       "      <td>1</td>\n",
       "      <td>0</td>\n",
       "    </tr>\n",
       "    <tr>\n",
       "      <th>...</th>\n",
       "      <td>...</td>\n",
       "      <td>...</td>\n",
       "      <td>...</td>\n",
       "      <td>...</td>\n",
       "      <td>...</td>\n",
       "    </tr>\n",
       "    <tr>\n",
       "      <th>774</th>\n",
       "      <td>54.0</td>\n",
       "      <td>23.000</td>\n",
       "      <td>2</td>\n",
       "      <td>0</td>\n",
       "      <td>0</td>\n",
       "    </tr>\n",
       "    <tr>\n",
       "      <th>664</th>\n",
       "      <td>20.0</td>\n",
       "      <td>7.925</td>\n",
       "      <td>3</td>\n",
       "      <td>0</td>\n",
       "      <td>1</td>\n",
       "    </tr>\n",
       "    <tr>\n",
       "      <th>842</th>\n",
       "      <td>30.0</td>\n",
       "      <td>31.000</td>\n",
       "      <td>1</td>\n",
       "      <td>1</td>\n",
       "      <td>0</td>\n",
       "    </tr>\n",
       "    <tr>\n",
       "      <th>286</th>\n",
       "      <td>30.0</td>\n",
       "      <td>9.500</td>\n",
       "      <td>3</td>\n",
       "      <td>1</td>\n",
       "      <td>1</td>\n",
       "    </tr>\n",
       "    <tr>\n",
       "      <th>834</th>\n",
       "      <td>18.0</td>\n",
       "      <td>8.300</td>\n",
       "      <td>3</td>\n",
       "      <td>1</td>\n",
       "      <td>1</td>\n",
       "    </tr>\n",
       "  </tbody>\n",
       "</table>\n",
       "<p>428 rows × 5 columns</p>\n",
       "</div>"
      ],
      "text/plain": [
       "      age    fare  pclass  alone  male\n",
       "548  33.0  20.525       3      0     1\n",
       "133  29.0  26.000       2      0     0\n",
       "540  36.0  71.000       1      0     0\n",
       "2    26.0   7.925       3      1     0\n",
       "649  23.0   7.550       3      1     0\n",
       "..    ...     ...     ...    ...   ...\n",
       "774  54.0  23.000       2      0     0\n",
       "664  20.0   7.925       3      0     1\n",
       "842  30.0  31.000       1      1     0\n",
       "286  30.0   9.500       3      1     1\n",
       "834  18.0   8.300       3      1     1\n",
       "\n",
       "[428 rows x 5 columns]"
      ]
     },
     "execution_count": 73,
     "metadata": {},
     "output_type": "execute_result"
    }
   ],
   "source": []
  },
  {
   "cell_type": "markdown",
   "id": "b6099d6a",
   "metadata": {},
   "source": [
    "Bonus3: scikit-learn's LogisticRegression classifier is actually applying a regularization penalty to the coefficients by default. This penalty causes the magnitude of the coefficients in the resulting model to be smaller than they otherwise would be. This value can be modified with the C hyper parameter. Small values of C correspond to a larger penalty, and large values of C correspond to a smaller penalty.\n",
    "Try out the following values for C and note how the coefficients and the model's performance on both the dataset it was trained on and on the validate split are affected."
   ]
  },
  {
   "cell_type": "code",
   "execution_count": 75,
   "id": "2a11f5f7",
   "metadata": {},
   "outputs": [
    {
     "name": "stdout",
     "output_type": "stream",
     "text": [
      "For C = 0.01, score on training dataset is 0.71, and on validate is 0.75\n",
      "For C = 0.1, score on training dataset is 0.79, and on validate is 0.79\n",
      "For C = 1, score on training dataset is 0.79, and on validate is 0.79\n",
      "For C = 10, score on training dataset is 0.79, and on validate is 0.78\n",
      "For C = 100, score on training dataset is 0.79, and on validate is 0.78\n",
      "For C = 1000, score on training dataset is 0.79, and on validate is 0.78\n"
     ]
    }
   ],
   "source": [
    "C = [.01, .1, 1, 10, 100, 1000]\n",
    "\n",
    "for c in C: \n",
    "    logitc = LogisticRegression(C=c)\n",
    "    logitc.fit(X_train, y_train)\n",
    "    print(f'For C = {c}, score on training dataset is {round(logitc.score(X_train, y_train), 2)}, and on validate is {round(logitc.score(X_validate, y_validate), 2)}')\n",
    "    "
   ]
  },
  {
   "cell_type": "markdown",
   "id": "442b249d",
   "metadata": {},
   "source": [
    "Bonus1 How do different strategies for handling the missing values in the age column affect model performance?"
   ]
  },
  {
   "cell_type": "code",
   "execution_count": 139,
   "id": "4156f4d8",
   "metadata": {},
   "outputs": [],
   "source": [
    "titanic_with_age_0 = acq.get_titanic_data()\n",
    "titanic_with_age_0 = titanic_with_age_0.fillna(0)\n",
    "\n",
    "titanic_with_age_mean = acq.get_titanic_data()\n",
    "titanic_with_age_mean = titanic_with_age_mean.fillna(titanic_with_age_mean.age.mean())\n",
    "\n",
    "titanic_with_age_mode = acq.get_titanic_data()\n",
    "titanic_with_age_mode = titanic_with_age_mode.fillna(titanic_with_age_mode.age.mode()[0])"
   ]
  },
  {
   "cell_type": "code",
   "execution_count": 140,
   "id": "f3ec6db8",
   "metadata": {},
   "outputs": [],
   "source": [
    "titanic_with_age_0['male'] = pd.get_dummies(titanic_with_age_0['sex'], drop_first=True)\n",
    "titanic_with_age_mean['male'] = pd.get_dummies(titanic_with_age_mean['sex'], drop_first=True)\n",
    "titanic_with_age_mode['male'] = pd.get_dummies(titanic_with_age_mode['sex'], drop_first=True)"
   ]
  },
  {
   "cell_type": "code",
   "execution_count": 141,
   "id": "f4739a96",
   "metadata": {},
   "outputs": [],
   "source": [
    "train_titanic_0, validate_titanic_0, test_titanic_0 = prep.split_data(titanic_with_age_0, 'survived')\n",
    "train_titanic_mean, validate_titanic_mean, test_titanic_mean = prep.split_data(titanic_with_age_mean, 'survived')\n",
    "train_titanic_mode, validate_titanic_mode, test_titanic_mode = prep.split_data(titanic_with_age_mode, 'survived')"
   ]
  },
  {
   "cell_type": "code",
   "execution_count": 105,
   "id": "a5febe8d",
   "metadata": {},
   "outputs": [],
   "source": [
    "X_train = train_titanic_0[['age', 'fare', 'pclass', 'alone', 'male']]\n",
    "y_train = train_titanic_0.survived\n",
    "\n",
    "X_validate = validate_titanic_0[['age', 'fare', 'pclass', 'alone', 'male']]\n",
    "y_validate = validate_titanic_0.survived\n",
    "\n",
    "X_test = test_titanic_0[['age', 'fare', 'pclass', 'alone', 'male']]\n",
    "y_test = test_titanic_0.survived"
   ]
  },
  {
   "cell_type": "code",
   "execution_count": 106,
   "id": "a67d54d0",
   "metadata": {},
   "outputs": [
    {
     "data": {
      "text/plain": [
       "(0.7808988764044944, 0.7696629213483146)"
      ]
     },
     "execution_count": 106,
     "metadata": {},
     "output_type": "execute_result"
    }
   ],
   "source": [
    "logit_0 = LogisticRegression()\n",
    "logit_0.fit(X_train, y_train)\n",
    "logit_0.score(X_train, y_train), logit_0.score(X_validate, y_validate)"
   ]
  },
  {
   "cell_type": "code",
   "execution_count": 107,
   "id": "6312dc7e",
   "metadata": {},
   "outputs": [],
   "source": [
    "X_train = train_titanic_mean[['age', 'fare', 'pclass', 'alone', 'male']]\n",
    "y_train = train_titanic_mean.survived\n",
    "\n",
    "X_validate = validate_titanic_mean[['age', 'fare', 'pclass', 'alone', 'male']]\n",
    "y_validate = validate_titanic_mean.survived\n",
    "\n",
    "X_test = test_titanic_mean[['age', 'fare', 'pclass', 'alone', 'male']]\n",
    "y_test = test_titanic_mean.survived"
   ]
  },
  {
   "cell_type": "code",
   "execution_count": 108,
   "id": "b66af948",
   "metadata": {},
   "outputs": [
    {
     "data": {
      "text/plain": [
       "(0.8089887640449438, 0.7808988764044944)"
      ]
     },
     "execution_count": 108,
     "metadata": {},
     "output_type": "execute_result"
    }
   ],
   "source": [
    "logit_mean = LogisticRegression()\n",
    "logit_mean.fit(X_train, y_train)\n",
    "logit_mean.score(X_train, y_train), logit_mean.score(X_validate, y_validate)"
   ]
  },
  {
   "cell_type": "code",
   "execution_count": 142,
   "id": "eb829242",
   "metadata": {},
   "outputs": [],
   "source": [
    "X_train = train_titanic_mode[['age', 'fare', 'pclass', 'alone', 'male']]\n",
    "y_train = train_titanic_mode.survived\n",
    "\n",
    "X_validate = validate_titanic_mode[['age', 'fare', 'pclass', 'alone', 'male']]\n",
    "y_validate = validate_titanic_mode.survived\n",
    "\n",
    "X_test = test_titanic_mode[['age', 'fare', 'pclass', 'alone', 'male']]\n",
    "y_test = test_titanic_mode.survived"
   ]
  },
  {
   "cell_type": "code",
   "execution_count": 143,
   "id": "6d674fef",
   "metadata": {},
   "outputs": [
    {
     "data": {
      "text/plain": [
       "(0.795880149812734, 0.7808988764044944)"
      ]
     },
     "execution_count": 143,
     "metadata": {},
     "output_type": "execute_result"
    }
   ],
   "source": [
    "logit_mode = LogisticRegression()\n",
    "logit_mode.fit(X_train, y_train)\n",
    "logit_mode.score(X_train, y_train), logit_mode.score(X_validate, y_validate)"
   ]
  },
  {
   "cell_type": "code",
   "execution_count": null,
   "id": "675b01f0",
   "metadata": {},
   "outputs": [],
   "source": [
    "# Interesting, that replacing NaNs with 0s still had relatively good perfomance when it came to predicting. I had\n",
    "# assumed that it would have completely thrown off the algorithm and scores would be low. Good to know. Nevertheless,\n",
    "# looked like replacing NaNs with the age.mean() resulted in the best score. "
   ]
  }
 ],
 "metadata": {
  "kernelspec": {
   "display_name": "Python 3 (ipykernel)",
   "language": "python",
   "name": "python3"
  },
  "language_info": {
   "codemirror_mode": {
    "name": "ipython",
    "version": 3
   },
   "file_extension": ".py",
   "mimetype": "text/x-python",
   "name": "python",
   "nbconvert_exporter": "python",
   "pygments_lexer": "ipython3",
   "version": "3.9.13"
  }
 },
 "nbformat": 4,
 "nbformat_minor": 5
}
